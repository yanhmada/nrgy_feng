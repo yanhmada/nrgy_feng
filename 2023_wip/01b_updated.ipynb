{
 "cells": [
  {
   "cell_type": "markdown",
   "metadata": {},
   "source": [
    "### Including Data files on 01/13"
   ]
  },
  {
   "attachments": {},
   "cell_type": "markdown",
   "metadata": {},
   "source": [
    "This notebooks checks for new data available to store it or join it as required"
   ]
  },
  {
   "cell_type": "markdown",
   "metadata": {},
   "source": []
  },
  {
   "cell_type": "code",
   "execution_count": 7,
   "metadata": {},
   "outputs": [],
   "source": [
    "#import libraries\n",
    "import pandas as pd\n",
    "import zipfile\n",
    "import os\n",
    "from datetime import datetime\n",
    "import shutil\n"
   ]
  },
  {
   "cell_type": "code",
   "execution_count": null,
   "metadata": {},
   "outputs": [],
   "source": []
  },
  {
   "cell_type": "code",
   "execution_count": 3,
   "metadata": {},
   "outputs": [
    {
     "name": "stdout",
     "output_type": "stream",
     "text": [
      "/Users/yhmve/nrgy_feng/2023_wip\n"
     ]
    }
   ],
   "source": [
    "#set working directory  \n",
    "os.chdir('../2023_wip')\n",
    "print(os.getcwd())\n"
   ]
  },
  {
   "cell_type": "code",
   "execution_count": 9,
   "metadata": {},
   "outputs": [
    {
     "name": "stdout",
     "output_type": "stream",
     "text": [
      "./2023_wip/0113\n"
     ]
    }
   ],
   "source": [
    "date_update = \"0113\"\n",
    "\n",
    "# specify the zip file path\n",
    "file_path = \"../2023_wip/RV_ Dataset_GCRNO.zip\"\n",
    "\n",
    "# Create directory  to extract the files\n",
    "base_path = \"./2023_wip/\"\n",
    "extract_path = os.path.join(base_path, date_update)\n",
    "\n",
    "print(extract_path)\n"
   ]
  },
  {
   "cell_type": "code",
   "execution_count": 10,
   "metadata": {},
   "outputs": [],
   "source": [
    "# create the extract path if it doesn't exist\n",
    "if not os.path.exists(extract_path):\n",
    "    os.makedirs(extract_path)\n",
    "\n",
    "# open the zip file\n",
    "with zipfile.ZipFile(file_path, 'r') as zip_ref:\n",
    "    # extract the files\n",
    "    zip_ref.extractall(extract_path)"
   ]
  },
  {
   "cell_type": "code",
   "execution_count": 11,
   "metadata": {},
   "outputs": [],
   "source": [
    "#rename files\n",
    "\n",
    "# get a list of all files in the folder\n",
    "for file_name in os.listdir(extract_path):\n",
    "    # check if the file name contains spaces\n",
    "    if \" \" in file_name:\n",
    "        # construct the full path to the file\n",
    "        old_file_path = os.path.join(extract_path, file_name)\n",
    "        # replace spaces with underscores\n",
    "        new_file_name = file_name.replace(\" \", \"_\")\n",
    "        # construct the full path to the new file\n",
    "        new_file_path = os.path.join(extract_path, new_file_name)\n",
    "        # rename the file\n",
    "        os.rename(old_file_path, new_file_path)"
   ]
  },
  {
   "cell_type": "code",
   "execution_count": 16,
   "metadata": {},
   "outputs": [
    {
     "name": "stdout",
     "output_type": "stream",
     "text": [
      "/Users/yhmve/nrgy_feng/2023_wip/2023_wip/0113\n"
     ]
    }
   ],
   "source": [
    " \n",
    "os.chdir(extract_path)\n",
    "print(os.getcwd())"
   ]
  },
  {
   "cell_type": "code",
   "execution_count": 17,
   "metadata": {},
   "outputs": [],
   "source": [
    "#importing city files to each df\n",
    "df_cab = pd.read_csv('CAB_20230110.csv')\n",
    "df_cul = pd.read_csv('CUL_20230110.csv')\n",
    "df_guas = pd.read_csv('GSV_20230110.csv')\n",
    "df_guay = pd.read_csv('GYM_20230110.csv')\n",
    "df_herm = pd.read_csv('HMO_20230110.csv')\n",
    "df_maz = pd.read_csv('MZT_20230110.csv')\n",
    "df_moch = pd.read_csv('LMO_20230110.csv')\n",
    "df_nav = pd.read_csv('NVJ_20230110.csv')\n",
    "df_nog = pd.read_csv('NOG_20230110.csv')\n",
    "df_obr = pd.read_csv('OBR_20230110.csv')"
   ]
  },
  {
   "cell_type": "code",
   "execution_count": 19,
   "metadata": {},
   "outputs": [
    {
     "name": "stdout",
     "output_type": "stream",
     "text": [
      "Dataframe 1 shape: (61608, 8)\n",
      "Dataframe 2 shape: (61608, 8)\n",
      "Dataframe 3 shape: (61608, 8)\n",
      "Dataframe 4 shape: (61608, 8)\n",
      "Dataframe 5 shape: (61608, 8)\n",
      "Dataframe 6 shape: (61608, 8)\n",
      "Dataframe 7 shape: (61608, 8)\n",
      "Dataframe 8 shape: (61608, 8)\n",
      "Dataframe 9 shape: (61608, 8)\n",
      "Dataframe 10 shape: (61608, 8)\n"
     ]
    }
   ],
   "source": [
    "#Check shape of all df\n",
    "#create dataframe list\n",
    "data_frames = [df_cab, df_cul, df_guas, df_guay, df_herm , df_maz, df_moch, df_nav, df_nog , df_obr]\n",
    "\n",
    "# Loop through the list of data frames\n",
    "for i, df in enumerate(data_frames):\n",
    "    print(f\"Dataframe {i+1} shape: {df.shape}\")\n"
   ]
  },
  {
   "cell_type": "code",
   "execution_count": 20,
   "metadata": {},
   "outputs": [
    {
     "data": {
      "text/html": [
       "<div>\n",
       "<style scoped>\n",
       "    .dataframe tbody tr th:only-of-type {\n",
       "        vertical-align: middle;\n",
       "    }\n",
       "\n",
       "    .dataframe tbody tr th {\n",
       "        vertical-align: top;\n",
       "    }\n",
       "\n",
       "    .dataframe thead th {\n",
       "        text-align: right;\n",
       "    }\n",
       "</style>\n",
       "<table border=\"1\" class=\"dataframe\">\n",
       "  <thead>\n",
       "    <tr style=\"text-align: right;\">\n",
       "      <th></th>\n",
       "      <th>Date</th>\n",
       "      <th>Hora</th>\n",
       "      <th>Zone</th>\n",
       "      <th>Demand</th>\n",
       "      <th>Temperature</th>\n",
       "      <th>PrecipIntensity</th>\n",
       "      <th>Humidity</th>\n",
       "      <th>WindSpeed</th>\n",
       "    </tr>\n",
       "  </thead>\n",
       "  <tbody>\n",
       "    <tr>\n",
       "      <th>0</th>\n",
       "      <td>01/01/2016</td>\n",
       "      <td>1</td>\n",
       "      <td>CAB</td>\n",
       "      <td>NaN</td>\n",
       "      <td>7.4</td>\n",
       "      <td>0.0</td>\n",
       "      <td>50.6</td>\n",
       "      <td>1.5</td>\n",
       "    </tr>\n",
       "    <tr>\n",
       "      <th>1</th>\n",
       "      <td>01/01/2016</td>\n",
       "      <td>2</td>\n",
       "      <td>CAB</td>\n",
       "      <td>68.994</td>\n",
       "      <td>6.4</td>\n",
       "      <td>0.0</td>\n",
       "      <td>55.7</td>\n",
       "      <td>1.7</td>\n",
       "    </tr>\n",
       "  </tbody>\n",
       "</table>\n",
       "</div>"
      ],
      "text/plain": [
       "         Date  Hora Zone  Demand  Temperature  PrecipIntensity  Humidity  \\\n",
       "0  01/01/2016     1  CAB     NaN          7.4              0.0      50.6   \n",
       "1  01/01/2016     2  CAB  68.994          6.4              0.0      55.7   \n",
       "\n",
       "   WindSpeed  \n",
       "0        1.5  \n",
       "1        1.7  "
      ]
     },
     "execution_count": 20,
     "metadata": {},
     "output_type": "execute_result"
    }
   ],
   "source": [
    "df_cab.head(2)"
   ]
  },
  {
   "cell_type": "code",
   "execution_count": 21,
   "metadata": {},
   "outputs": [
    {
     "data": {
      "text/html": [
       "<div>\n",
       "<style scoped>\n",
       "    .dataframe tbody tr th:only-of-type {\n",
       "        vertical-align: middle;\n",
       "    }\n",
       "\n",
       "    .dataframe tbody tr th {\n",
       "        vertical-align: top;\n",
       "    }\n",
       "\n",
       "    .dataframe thead th {\n",
       "        text-align: right;\n",
       "    }\n",
       "</style>\n",
       "<table border=\"1\" class=\"dataframe\">\n",
       "  <thead>\n",
       "    <tr style=\"text-align: right;\">\n",
       "      <th></th>\n",
       "      <th>Date</th>\n",
       "      <th>Hora</th>\n",
       "      <th>Zone</th>\n",
       "      <th>Demand</th>\n",
       "      <th>Temperature</th>\n",
       "      <th>PrecipIntensity</th>\n",
       "      <th>Humidity</th>\n",
       "      <th>WindSpeed</th>\n",
       "    </tr>\n",
       "  </thead>\n",
       "  <tbody>\n",
       "    <tr>\n",
       "      <th>61605</th>\n",
       "      <td>10/01/2023</td>\n",
       "      <td>22</td>\n",
       "      <td>CAB</td>\n",
       "      <td>110.286</td>\n",
       "      <td>17.4</td>\n",
       "      <td>0.0</td>\n",
       "      <td>28.8</td>\n",
       "      <td>2.9</td>\n",
       "    </tr>\n",
       "    <tr>\n",
       "      <th>61606</th>\n",
       "      <td>10/01/2023</td>\n",
       "      <td>23</td>\n",
       "      <td>CAB</td>\n",
       "      <td>107.262</td>\n",
       "      <td>16.7</td>\n",
       "      <td>0.0</td>\n",
       "      <td>31.6</td>\n",
       "      <td>1.8</td>\n",
       "    </tr>\n",
       "    <tr>\n",
       "      <th>61607</th>\n",
       "      <td>10/01/2023</td>\n",
       "      <td>24</td>\n",
       "      <td>CAB</td>\n",
       "      <td>102.344</td>\n",
       "      <td>17.3</td>\n",
       "      <td>0.0</td>\n",
       "      <td>30.8</td>\n",
       "      <td>0.8</td>\n",
       "    </tr>\n",
       "  </tbody>\n",
       "</table>\n",
       "</div>"
      ],
      "text/plain": [
       "             Date  Hora Zone   Demand  Temperature  PrecipIntensity  Humidity  \\\n",
       "61605  10/01/2023    22  CAB  110.286         17.4              0.0      28.8   \n",
       "61606  10/01/2023    23  CAB  107.262         16.7              0.0      31.6   \n",
       "61607  10/01/2023    24  CAB  102.344         17.3              0.0      30.8   \n",
       "\n",
       "       WindSpeed  \n",
       "61605        2.9  \n",
       "61606        1.8  \n",
       "61607        0.8  "
      ]
     },
     "execution_count": 21,
     "metadata": {},
     "output_type": "execute_result"
    }
   ],
   "source": [
    "df_cab.tail(3)"
   ]
  }
 ],
 "metadata": {
  "kernelspec": {
   "display_name": "nrgy1",
   "language": "python",
   "name": "python3"
  },
  "language_info": {
   "codemirror_mode": {
    "name": "ipython",
    "version": 3
   },
   "file_extension": ".py",
   "mimetype": "text/x-python",
   "name": "python",
   "nbconvert_exporter": "python",
   "pygments_lexer": "ipython3",
   "version": "3.8.13"
  },
  "orig_nbformat": 4,
  "vscode": {
   "interpreter": {
    "hash": "ed2e2a0415bd5350151cd939f9c3e3fa92c59c92b650c54a8bc7d1eb0967a683"
   }
  }
 },
 "nbformat": 4,
 "nbformat_minor": 2
}
