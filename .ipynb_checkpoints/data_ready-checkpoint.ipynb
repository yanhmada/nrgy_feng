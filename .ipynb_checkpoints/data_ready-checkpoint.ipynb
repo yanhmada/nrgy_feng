{
 "cells": [
  {
   "cell_type": "code",
   "execution_count": 1,
   "metadata": {},
   "outputs": [],
   "source": [
    "#import libraries\n",
    "import numpy as np\n",
    "import pandas as pd\n",
    "import matplotlib.pyplot as plt"
   ]
  },
  {
   "cell_type": "code",
   "execution_count": 11,
   "metadata": {},
   "outputs": [
    {
     "data": {
      "text/plain": [
       "(5783, 25)"
      ]
     },
     "execution_count": 11,
     "metadata": {},
     "output_type": "execute_result"
    }
   ],
   "source": [
    "#exploring available files 01\n",
    "df_demanda = pd.read_csv('DemandaGCRNO20221031.csv', delimiter=\",\")\n",
    "df_demanda.shape\n"
   ]
  },
  {
   "cell_type": "code",
   "execution_count": 12,
   "metadata": {},
   "outputs": [
    {
     "name": "stdout",
     "output_type": "stream",
     "text": [
      "<class 'pandas.core.frame.DataFrame'>\n",
      "RangeIndex: 5783 entries, 0 to 5782\n",
      "Data columns (total 25 columns):\n",
      " #   Column  Non-Null Count  Dtype  \n",
      "---  ------  --------------  -----  \n",
      " 0   FECHA   5783 non-null   object \n",
      " 1   H1      5783 non-null   float64\n",
      " 2   H2      5783 non-null   float64\n",
      " 3   H3      5783 non-null   float64\n",
      " 4   H4      5783 non-null   float64\n",
      " 5   H5      5783 non-null   float64\n",
      " 6   H6      5783 non-null   float64\n",
      " 7   H7      5783 non-null   float64\n",
      " 8   H8      5783 non-null   float64\n",
      " 9   H9      5783 non-null   float64\n",
      " 10  H10     5783 non-null   float64\n",
      " 11  H11     5783 non-null   float64\n",
      " 12  H12     5783 non-null   float64\n",
      " 13  H13     5783 non-null   float64\n",
      " 14  H14     5783 non-null   float64\n",
      " 15  H15     5783 non-null   float64\n",
      " 16  H16     5783 non-null   float64\n",
      " 17  H17     5783 non-null   float64\n",
      " 18  H18     5783 non-null   float64\n",
      " 19  H19     5783 non-null   float64\n",
      " 20  H20     5783 non-null   float64\n",
      " 21  H21     5783 non-null   float64\n",
      " 22  H22     5783 non-null   float64\n",
      " 23  H23     5783 non-null   float64\n",
      " 24  H24     5783 non-null   float64\n",
      "dtypes: float64(24), object(1)\n",
      "memory usage: 1.1+ MB\n"
     ]
    }
   ],
   "source": [
    "df_demanda.info()"
   ]
  },
  {
   "cell_type": "code",
   "execution_count": 14,
   "metadata": {},
   "outputs": [
    {
     "data": {
      "text/plain": [
       "(1355, 15)"
      ]
     },
     "execution_count": 14,
     "metadata": {},
     "output_type": "execute_result"
    }
   ],
   "source": [
    "#exploring available files 02\n",
    "df_pronostico = pd.read_csv('PRONOSTICO_DIARIO_Weather_Underground.csv', delimiter=\",\")\n",
    "df_pronostico.shape\n"
   ]
  },
  {
   "cell_type": "code",
   "execution_count": 16,
   "metadata": {},
   "outputs": [
    {
     "data": {
      "text/html": [
       "<div>\n",
       "<style scoped>\n",
       "    .dataframe tbody tr th:only-of-type {\n",
       "        vertical-align: middle;\n",
       "    }\n",
       "\n",
       "    .dataframe tbody tr th {\n",
       "        vertical-align: top;\n",
       "    }\n",
       "\n",
       "    .dataframe thead th {\n",
       "        text-align: right;\n",
       "    }\n",
       "</style>\n",
       "<table border=\"1\" class=\"dataframe\">\n",
       "  <thead>\n",
       "    <tr style=\"text-align: right;\">\n",
       "      <th></th>\n",
       "      <th>FECHA</th>\n",
       "      <th>TMAX-CAB</th>\n",
       "      <th>TMAX-HMO</th>\n",
       "      <th>TMAX-OBR</th>\n",
       "      <th>TMAX-LMO</th>\n",
       "      <th>TMAX-CUL</th>\n",
       "      <th>TMIN-CAB</th>\n",
       "      <th>TMIN-HMO</th>\n",
       "      <th>TMIN-OBR</th>\n",
       "      <th>TMIN-LMO</th>\n",
       "      <th>TMIN-CUL</th>\n",
       "      <th>PREC_HMO   (mm)</th>\n",
       "      <th>PREC_OBR   (mm)</th>\n",
       "      <th>PREC_LMO   (mm)</th>\n",
       "      <th>PREC_CUL   (mm)</th>\n",
       "    </tr>\n",
       "  </thead>\n",
       "  <tbody>\n",
       "    <tr>\n",
       "      <th>1350</th>\n",
       "      <td>30/10/2022</td>\n",
       "      <td>NaN</td>\n",
       "      <td>NaN</td>\n",
       "      <td>NaN</td>\n",
       "      <td>NaN</td>\n",
       "      <td>NaN</td>\n",
       "      <td>NaN</td>\n",
       "      <td>NaN</td>\n",
       "      <td>NaN</td>\n",
       "      <td>NaN</td>\n",
       "      <td>NaN</td>\n",
       "      <td>NaN</td>\n",
       "      <td>NaN</td>\n",
       "      <td>NaN</td>\n",
       "      <td>NaN</td>\n",
       "    </tr>\n",
       "    <tr>\n",
       "      <th>1351</th>\n",
       "      <td>31/10/2022</td>\n",
       "      <td>NaN</td>\n",
       "      <td>NaN</td>\n",
       "      <td>NaN</td>\n",
       "      <td>NaN</td>\n",
       "      <td>NaN</td>\n",
       "      <td>NaN</td>\n",
       "      <td>NaN</td>\n",
       "      <td>NaN</td>\n",
       "      <td>NaN</td>\n",
       "      <td>NaN</td>\n",
       "      <td>NaN</td>\n",
       "      <td>NaN</td>\n",
       "      <td>NaN</td>\n",
       "      <td>NaN</td>\n",
       "    </tr>\n",
       "    <tr>\n",
       "      <th>1352</th>\n",
       "      <td>01/11/2022</td>\n",
       "      <td>NaN</td>\n",
       "      <td>NaN</td>\n",
       "      <td>NaN</td>\n",
       "      <td>NaN</td>\n",
       "      <td>NaN</td>\n",
       "      <td>NaN</td>\n",
       "      <td>NaN</td>\n",
       "      <td>NaN</td>\n",
       "      <td>NaN</td>\n",
       "      <td>NaN</td>\n",
       "      <td>NaN</td>\n",
       "      <td>NaN</td>\n",
       "      <td>NaN</td>\n",
       "      <td>NaN</td>\n",
       "    </tr>\n",
       "    <tr>\n",
       "      <th>1353</th>\n",
       "      <td>02/11/2022</td>\n",
       "      <td>28.0</td>\n",
       "      <td>30.0</td>\n",
       "      <td>32.0</td>\n",
       "      <td>31.0</td>\n",
       "      <td>34.0</td>\n",
       "      <td>14.0</td>\n",
       "      <td>14.0</td>\n",
       "      <td>17.0</td>\n",
       "      <td>17.0</td>\n",
       "      <td>16.0</td>\n",
       "      <td>0.0</td>\n",
       "      <td>0.0</td>\n",
       "      <td>0.0</td>\n",
       "      <td>0.0</td>\n",
       "    </tr>\n",
       "    <tr>\n",
       "      <th>1354</th>\n",
       "      <td>03/11/2022</td>\n",
       "      <td>20.0</td>\n",
       "      <td>25.0</td>\n",
       "      <td>29.0</td>\n",
       "      <td>30.0</td>\n",
       "      <td>34.0</td>\n",
       "      <td>13.0</td>\n",
       "      <td>15.0</td>\n",
       "      <td>19.0</td>\n",
       "      <td>18.0</td>\n",
       "      <td>16.0</td>\n",
       "      <td>0.0</td>\n",
       "      <td>0.0</td>\n",
       "      <td>0.0</td>\n",
       "      <td>0.0</td>\n",
       "    </tr>\n",
       "  </tbody>\n",
       "</table>\n",
       "</div>"
      ],
      "text/plain": [
       "           FECHA  TMAX-CAB  TMAX-HMO  TMAX-OBR  TMAX-LMO  TMAX-CUL  TMIN-CAB  \\\n",
       "1350  30/10/2022       NaN       NaN       NaN       NaN       NaN       NaN   \n",
       "1351  31/10/2022       NaN       NaN       NaN       NaN       NaN       NaN   \n",
       "1352  01/11/2022       NaN       NaN       NaN       NaN       NaN       NaN   \n",
       "1353  02/11/2022      28.0      30.0      32.0      31.0      34.0      14.0   \n",
       "1354  03/11/2022      20.0      25.0      29.0      30.0      34.0      13.0   \n",
       "\n",
       "      TMIN-HMO  TMIN-OBR  TMIN-LMO  TMIN-CUL  PREC_HMO   (mm)  \\\n",
       "1350       NaN       NaN       NaN       NaN              NaN   \n",
       "1351       NaN       NaN       NaN       NaN              NaN   \n",
       "1352       NaN       NaN       NaN       NaN              NaN   \n",
       "1353      14.0      17.0      17.0      16.0              0.0   \n",
       "1354      15.0      19.0      18.0      16.0              0.0   \n",
       "\n",
       "      PREC_OBR   (mm)  PREC_LMO   (mm)  PREC_CUL   (mm)  \n",
       "1350              NaN              NaN              NaN  \n",
       "1351              NaN              NaN              NaN  \n",
       "1352              NaN              NaN              NaN  \n",
       "1353              0.0              0.0              0.0  \n",
       "1354              0.0              0.0              0.0  "
      ]
     },
     "execution_count": 16,
     "metadata": {},
     "output_type": "execute_result"
    }
   ],
   "source": [
    "df_pronostico.tail()"
   ]
  },
  {
   "cell_type": "code",
   "execution_count": 18,
   "metadata": {},
   "outputs": [
    {
     "data": {
      "text/plain": [
       "Index(['FECHA', 'TMAX-CAB', 'TMAX-HMO', 'TMAX-OBR', 'TMAX-LMO', 'TMAX-CUL',\n",
       "       'TMIN-CAB', 'TMIN-HMO', 'TMIN-OBR', 'TMIN-LMO', 'TMIN-CUL',\n",
       "       'PREC_HMO   (mm)', 'PREC_OBR   (mm)', 'PREC_LMO   (mm)',\n",
       "       'PREC_CUL   (mm)'],\n",
       "      dtype='object')"
      ]
     },
     "execution_count": 18,
     "metadata": {},
     "output_type": "execute_result"
    }
   ],
   "source": [
    "df_pronostico.columns"
   ]
  },
  {
   "cell_type": "code",
   "execution_count": 19,
   "metadata": {},
   "outputs": [
    {
     "data": {
      "text/plain": [
       "(5783, 15)"
      ]
     },
     "execution_count": 19,
     "metadata": {},
     "output_type": "execute_result"
    }
   ],
   "source": [
    "#exploring available files 03\n",
    "df_real = pd.read_csv('REAL_DIARIO_CONAGUA 20221031.csv', delimiter=\",\")\n",
    "df_real.shape\n"
   ]
  },
  {
   "cell_type": "code",
   "execution_count": 21,
   "metadata": {},
   "outputs": [
    {
     "data": {
      "text/html": [
       "<div>\n",
       "<style scoped>\n",
       "    .dataframe tbody tr th:only-of-type {\n",
       "        vertical-align: middle;\n",
       "    }\n",
       "\n",
       "    .dataframe tbody tr th {\n",
       "        vertical-align: top;\n",
       "    }\n",
       "\n",
       "    .dataframe thead th {\n",
       "        text-align: right;\n",
       "    }\n",
       "</style>\n",
       "<table border=\"1\" class=\"dataframe\">\n",
       "  <thead>\n",
       "    <tr style=\"text-align: right;\">\n",
       "      <th></th>\n",
       "      <th>FECHA</th>\n",
       "      <th>TMAX-CAB</th>\n",
       "      <th>TMAX-HMO</th>\n",
       "      <th>TMAX-OBR</th>\n",
       "      <th>TMAX-LMO</th>\n",
       "      <th>TMAX-CUL</th>\n",
       "      <th>TMIN-CAB</th>\n",
       "      <th>TMIN-HMO</th>\n",
       "      <th>TMIN-OBR</th>\n",
       "      <th>TMIN-LMO</th>\n",
       "      <th>TMIN-CUL</th>\n",
       "      <th>PREC_HMO   (mm)</th>\n",
       "      <th>PREC_OBR   (mm)</th>\n",
       "      <th>PREC_LMO   (mm)</th>\n",
       "      <th>PREC_CUL   (mm)</th>\n",
       "    </tr>\n",
       "  </thead>\n",
       "  <tbody>\n",
       "    <tr>\n",
       "      <th>5778</th>\n",
       "      <td>27/10/2022</td>\n",
       "      <td>28.2</td>\n",
       "      <td>30.0</td>\n",
       "      <td>32.5</td>\n",
       "      <td>33.0</td>\n",
       "      <td>33.0</td>\n",
       "      <td>11.0</td>\n",
       "      <td>15.0</td>\n",
       "      <td>13.5</td>\n",
       "      <td>20.0</td>\n",
       "      <td>20.0</td>\n",
       "      <td>0.0</td>\n",
       "      <td>0.0</td>\n",
       "      <td>0.0</td>\n",
       "      <td>0.0</td>\n",
       "    </tr>\n",
       "    <tr>\n",
       "      <th>5779</th>\n",
       "      <td>28/10/2022</td>\n",
       "      <td>29.8</td>\n",
       "      <td>33.5</td>\n",
       "      <td>34.0</td>\n",
       "      <td>32.0</td>\n",
       "      <td>33.0</td>\n",
       "      <td>9.4</td>\n",
       "      <td>13.0</td>\n",
       "      <td>14.0</td>\n",
       "      <td>20.0</td>\n",
       "      <td>15.0</td>\n",
       "      <td>0.0</td>\n",
       "      <td>0.0</td>\n",
       "      <td>0.0</td>\n",
       "      <td>0.0</td>\n",
       "    </tr>\n",
       "    <tr>\n",
       "      <th>5780</th>\n",
       "      <td>29/10/2022</td>\n",
       "      <td>29.0</td>\n",
       "      <td>32.0</td>\n",
       "      <td>33.0</td>\n",
       "      <td>33.0</td>\n",
       "      <td>32.0</td>\n",
       "      <td>9.2</td>\n",
       "      <td>12.0</td>\n",
       "      <td>16.0</td>\n",
       "      <td>19.0</td>\n",
       "      <td>14.0</td>\n",
       "      <td>0.0</td>\n",
       "      <td>0.0</td>\n",
       "      <td>0.0</td>\n",
       "      <td>0.0</td>\n",
       "    </tr>\n",
       "    <tr>\n",
       "      <th>5781</th>\n",
       "      <td>30/10/2022</td>\n",
       "      <td>30.0</td>\n",
       "      <td>33.0</td>\n",
       "      <td>33.0</td>\n",
       "      <td>34.0</td>\n",
       "      <td>32.5</td>\n",
       "      <td>15.0</td>\n",
       "      <td>11.5</td>\n",
       "      <td>13.5</td>\n",
       "      <td>19.0</td>\n",
       "      <td>19.0</td>\n",
       "      <td>0.0</td>\n",
       "      <td>0.0</td>\n",
       "      <td>0.0</td>\n",
       "      <td>0.0</td>\n",
       "    </tr>\n",
       "    <tr>\n",
       "      <th>5782</th>\n",
       "      <td>31/10/2022</td>\n",
       "      <td>29.0</td>\n",
       "      <td>31.5</td>\n",
       "      <td>31.5</td>\n",
       "      <td>33.0</td>\n",
       "      <td>32.0</td>\n",
       "      <td>15.0</td>\n",
       "      <td>16.0</td>\n",
       "      <td>14.0</td>\n",
       "      <td>19.5</td>\n",
       "      <td>20.0</td>\n",
       "      <td>0.0</td>\n",
       "      <td>0.0</td>\n",
       "      <td>0.0</td>\n",
       "      <td>0.0</td>\n",
       "    </tr>\n",
       "  </tbody>\n",
       "</table>\n",
       "</div>"
      ],
      "text/plain": [
       "           FECHA  TMAX-CAB  TMAX-HMO  TMAX-OBR  TMAX-LMO  TMAX-CUL  TMIN-CAB  \\\n",
       "5778  27/10/2022      28.2      30.0      32.5      33.0      33.0      11.0   \n",
       "5779  28/10/2022      29.8      33.5      34.0      32.0      33.0       9.4   \n",
       "5780  29/10/2022      29.0      32.0      33.0      33.0      32.0       9.2   \n",
       "5781  30/10/2022      30.0      33.0      33.0      34.0      32.5      15.0   \n",
       "5782  31/10/2022      29.0      31.5      31.5      33.0      32.0      15.0   \n",
       "\n",
       "      TMIN-HMO  TMIN-OBR  TMIN-LMO  TMIN-CUL  PREC_HMO   (mm)  \\\n",
       "5778      15.0      13.5      20.0      20.0              0.0   \n",
       "5779      13.0      14.0      20.0      15.0              0.0   \n",
       "5780      12.0      16.0      19.0      14.0              0.0   \n",
       "5781      11.5      13.5      19.0      19.0              0.0   \n",
       "5782      16.0      14.0      19.5      20.0              0.0   \n",
       "\n",
       "      PREC_OBR   (mm)  PREC_LMO   (mm)  PREC_CUL   (mm)  \n",
       "5778              0.0              0.0              0.0  \n",
       "5779              0.0              0.0              0.0  \n",
       "5780              0.0              0.0              0.0  \n",
       "5781              0.0              0.0              0.0  \n",
       "5782              0.0              0.0              0.0  "
      ]
     },
     "execution_count": 21,
     "metadata": {},
     "output_type": "execute_result"
    }
   ],
   "source": [
    "df_real.tail()"
   ]
  }
 ],
 "metadata": {
  "kernelspec": {
   "display_name": "Python 3",
   "language": "python",
   "name": "python3"
  },
  "language_info": {
   "codemirror_mode": {
    "name": "ipython",
    "version": 3
   },
   "file_extension": ".py",
   "mimetype": "text/x-python",
   "name": "python",
   "nbconvert_exporter": "python",
   "pygments_lexer": "ipython3",
   "version": "3.8.13"
  },
  "vscode": {
   "interpreter": {
    "hash": "802fc8f10d74b927cde864127190e684ac5426c136c474ca6368d9d2500281ae"
   }
  }
 },
 "nbformat": 4,
 "nbformat_minor": 2
}
