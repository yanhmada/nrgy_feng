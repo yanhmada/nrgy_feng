{
 "cells": [
  {
   "cell_type": "markdown",
   "metadata": {},
   "source": [
    "###  Downloading Raw data\n",
    "This notebook documents the latest updates of source files\n"
   ]
  },
  {
   "cell_type": "code",
   "execution_count": 3,
   "metadata": {},
   "outputs": [],
   "source": [
    "#import libraries\n",
    "import pandas as pd\n",
    "import os\n",
    "import urllib\n",
    "import requests    \n",
    "import wget\n",
    "import zipfile\n",
    "from datetime import datetime\n",
    "import shutil"
   ]
  },
  {
   "cell_type": "code",
   "execution_count": 4,
   "metadata": {},
   "outputs": [],
   "source": [
    "#function to document our sources\n",
    "def documentacion (filename,descript,url1):\n",
    "      \n",
    "    \"\"\" Genera un archivo para la descarga de datos\n",
    "    \"\"\"\n",
    "\n",
    "    datedownd = datetime.today().strftime('%d-%m-%Y %H:%M:%S') # to add date of download\n",
    "    dict_doc = {'Fecha de bajada': datedownd, 'Descripción': descript, 'Enlace':url1} #info for file\n",
    "\n",
    "    with open(filename , 'w') as f: \n",
    "        for key, value in dict_doc.items(): \n",
    "            f.write('%s:%s\\n' % (key, value))\n"
   ]
  },
  {
   "cell_type": "code",
   "execution_count": 4,
   "metadata": {},
   "outputs": [],
   "source": [
    "#Downloading files to local , part \n",
    "\n",
    "if not os.path.isdir('./source/'): #check if folder exist\n",
    "    if not os.path.exists('./MeteomaticsRealHorario.zip'):\n",
    "        url_son='https://github.com/yanhmada/icaracter/blob/main/MeteomaticsRealHorario.zip'\n",
    "        wget.download(url_son)\n",
    "        \n",
    "        #Unzip file\n",
    "        with zipfile.ZipFile('./MeteomaticsRealHorario.zip.zip', 'r') as zip_ref: \n",
    "            zip_ref.extractall(\"./Meteomatics\")\n",
    " \n",
    "        os.remove(\"MeteomaticsRealHorario.zip.zip\") # remove zip file\n",
    "\n",
    "        #run documentation file\n",
    "        descript = \"Datos Meteomatics \\n Year 2010 t0  2020 \\n Sonora\"\n",
    "\n",
    "        filename = \"Descarga_Meteomatics.txt\"\n",
    "        documentacion(filename,descript,url_son)\n"
   ]
  }
 ],
 "metadata": {
  "kernelspec": {
   "display_name": "Python 3.8.13 ('nrgy0')",
   "language": "python",
   "name": "python3"
  },
  "language_info": {
   "codemirror_mode": {
    "name": "ipython",
    "version": 3
   },
   "file_extension": ".py",
   "mimetype": "text/x-python",
   "name": "python",
   "nbconvert_exporter": "python",
   "pygments_lexer": "ipython3",
   "version": "3.8.13 (default, Mar 28 2022, 06:16:26) \n[Clang 12.0.0 ]"
  },
  "orig_nbformat": 4,
  "vscode": {
   "interpreter": {
    "hash": "802fc8f10d74b927cde864127190e684ac5426c136c474ca6368d9d2500281ae"
   }
  }
 },
 "nbformat": 4,
 "nbformat_minor": 2
}
