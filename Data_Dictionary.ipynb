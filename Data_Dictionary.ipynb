{
 "cells": [
  {
   "cell_type": "code",
   "execution_count": 1,
   "metadata": {},
   "outputs": [],
   "source": [
    "import pandas as pd\n",
    "import numpy as np"
   ]
  },
  {
   "attachments": {},
   "cell_type": "markdown",
   "metadata": {},
   "source": [
    "Crear Diccionario de Datos\n"
   ]
  },
  {
   "cell_type": "code",
   "execution_count": 2,
   "metadata": {},
   "outputs": [
    {
     "name": "stdout",
     "output_type": "stream",
     "text": [
      "/Users/yhmve/nrgy_feng/files\n"
     ]
    }
   ],
   "source": [
    "import os\n",
    "os.chdir('./files')\n",
    "print(os.getcwd(    ))"
   ]
  },
  {
   "cell_type": "code",
   "execution_count": 3,
   "metadata": {},
   "outputs": [],
   "source": [
    "df_tidy = pd.read_csv(\"../files/Hermosillo_weathervars.csv\")\n",
    "#files/Hermosillo_weathervars.csv"
   ]
  },
  {
   "cell_type": "code",
   "execution_count": 4,
   "metadata": {},
   "outputs": [
    {
     "name": "stdout",
     "output_type": "stream",
     "text": [
      "<class 'pandas.core.frame.DataFrame'>\n",
      "RangeIndex: 112405 entries, 0 to 112404\n",
      "Data columns (total 8 columns):\n",
      " #   Column                 Non-Null Count   Dtype  \n",
      "---  ------                 --------------   -----  \n",
      " 0   Date_Time              112405 non-null  object \n",
      " 1   Energy_Demand          112405 non-null  float64\n",
      " 2   season                 112405 non-null  object \n",
      " 3   Temperature            112405 non-null  float64\n",
      " 4   Perceived_Temperature  112405 non-null  float64\n",
      " 5   Precipitation          112405 non-null  float64\n",
      " 6   Humidity               112405 non-null  float64\n",
      " 7   City_Name              112405 non-null  object \n",
      "dtypes: float64(5), object(3)\n",
      "memory usage: 6.9+ MB\n"
     ]
    }
   ],
   "source": [
    "df_tidy.info()"
   ]
  },
  {
   "cell_type": "code",
   "execution_count": 5,
   "metadata": {},
   "outputs": [],
   "source": [
    "class create_data_dictionary:\n",
    "\n",
    "    def __init__(self):\n",
    "        '''This class provides functions to quickly develop a data dictionary for your data set'''\n",
    "        return None\n",
    "\n",
    "    def make_my_data_dictionary(self, dataFrame):\n",
    "        '''Create an initial data dictionary excluding definitions for meaning of features'''\n",
    "\n",
    "        col_ = dataFrame.columns\n",
    "        df_DataDict = {}\n",
    "\n",
    "        for col in col_:\n",
    "                df_DataDict[col] = {\n",
    "                               'Type': str(df.dtypes[col]),\n",
    "                               'Length': len(df[col]),\n",
    "                               'Null_Count': sum(df[col].isna()),\n",
    "                               'Size(Memory)': df.memory_usage()[col],\n",
    "                               'Description': str('')\n",
    "                                }\n",
    "\n",
    "        df_DD = pd.DataFrame(df_DataDict)\n",
    "\n",
    "        return df_DD\n",
    "\n",
    "    def define_data_meaning(self, df_data_dictionary):\n",
    "        '''Quickly provide input regarding each columns meaning and transpose into a usable dictionary'''\n",
    "\n",
    "        col_ = df_data_dictionary.columns\n",
    "        d = 'Definition'\n",
    "\n",
    "        for col in col_:\n",
    "            df_data_dictionary[col][d] = input('Provide a data definition for {}'.format(col))\n",
    "\n",
    "        df_data_dictionary = df_data_dictionary.transpose()\n",
    "\n",
    "        return df_data_dictionary\n",
    "\n",
    "    def update_dd_definition(self, df_data_dictionary, attribute):\n",
    "        try:\n",
    "            df_dd = df_data_dictionary.transpose()\n",
    "            df_dd[attribute]['Definition'] = input('Provide a data definition for {}'.format(attribute))\n",
    "            df_dd = df_dd.transpose()\n",
    "            return df_dd\n",
    "        except:\n",
    "            print('Sorry, there was an error.  Check attribute name and try again')\n"
   ]
  },
  {
   "cell_type": "code",
   "execution_count": 6,
   "metadata": {},
   "outputs": [],
   "source": [
    "df = df_tidy"
   ]
  },
  {
   "cell_type": "code",
   "execution_count": 7,
   "metadata": {},
   "outputs": [],
   "source": [
    "dd = create_data_dictionary()\n",
    "df_dd = dd.make_my_data_dictionary(df)\n",
    "df_dd = dd.define_data_meaning(df_dd)"
   ]
  },
  {
   "cell_type": "code",
   "execution_count": 8,
   "metadata": {},
   "outputs": [
    {
     "name": "stdout",
     "output_type": "stream",
     "text": [
      "Dataframe  saved to file\n"
     ]
    }
   ],
   "source": [
    "#Create excel writer object and send DF to excel\n",
    "createfile = pd.ExcelWriter('diccionario01.xlsx')\n",
    "df_dd.to_excel(createfile)\n",
    "\n",
    "createfile.save() \n",
    "print(\"Dataframe  saved to file\")"
   ]
  }
 ],
 "metadata": {
  "kernelspec": {
   "display_name": "nrgy1",
   "language": "python",
   "name": "python3"
  },
  "language_info": {
   "codemirror_mode": {
    "name": "ipython",
    "version": 3
   },
   "file_extension": ".py",
   "mimetype": "text/x-python",
   "name": "python",
   "nbconvert_exporter": "python",
   "pygments_lexer": "ipython3",
   "version": "3.8.13"
  },
  "orig_nbformat": 4,
  "vscode": {
   "interpreter": {
    "hash": "ed2e2a0415bd5350151cd939f9c3e3fa92c59c92b650c54a8bc7d1eb0967a683"
   }
  }
 },
 "nbformat": 4,
 "nbformat_minor": 2
}
