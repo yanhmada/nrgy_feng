{
 "cells": [
  {
   "cell_type": "markdown",
   "metadata": {},
   "source": [
    "importing zip"
   ]
  },
  {
   "cell_type": "code",
   "execution_count": 1,
   "metadata": {},
   "outputs": [],
   "source": [
    "#import libraries\n",
    "import numpy as np\n",
    "import pandas as pd\n",
    "import zipfile\n",
    "from pathlib import Path\n"
   ]
  },
  {
   "cell_type": "code",
   "execution_count": 2,
   "metadata": {},
   "outputs": [],
   "source": [
    "#Unzip file\n",
    "with zipfile.ZipFile('MeteomaticsRealHorario.zip', 'r') as zip_ref: \n",
    "        zip_ref.extractall(\"./Meteomatics/\")\n",
    "        "
   ]
  },
  {
   "cell_type": "code",
   "execution_count": 6,
   "metadata": {},
   "outputs": [
    {
     "name": "stdout",
     "output_type": "stream",
     "text": [
      "<generator object Path.glob at 0x7faaa8fe3f90>\n"
     ]
    }
   ],
   "source": [
    "#importing CSV into Dataframe\n",
    "path = r'./Meteomatics/'  # path\n",
    "\n",
    "# Get the files from the path provided \n",
    "files = Path(path).glob('*.csv')  # .rglob to get subdirectories\n",
    "dfs = list()\n",
    "for f in files:\n",
    "    data = pd.read_csv(f)\n",
    "    # .stem is method for pathlib objects to get the filename w/o the extension\n",
    "    data['file'] = f.stem\n",
    "    dfs.append(data)\n",
    "\n",
    "print(files)\n",
    "dfs = pd.concat(dfs, ignore_index=True)"
   ]
  },
  {
   "cell_type": "code",
   "execution_count": 8,
   "metadata": {},
   "outputs": [
    {
     "name": "stdout",
     "output_type": "stream",
     "text": [
      "<class 'pandas.core.frame.DataFrame'>\n",
      "RangeIndex: 1124257 entries, 0 to 1124256\n",
      "Data columns (total 14 columns):\n",
      " #   Column                Non-Null Count    Dtype  \n",
      "---  ------                --------------    -----  \n",
      " 0   Gerencia              1124257 non-null  object \n",
      " 1   Zona_Carga            1124257 non-null  object \n",
      " 2   Estacion              1124257 non-null  object \n",
      " 3   API                   1124257 non-null  object \n",
      " 4   Fecha                 1124257 non-null  object \n",
      " 5   Hora                  1124257 non-null  int64  \n",
      " 6   Temperatura           1124257 non-null  float64\n",
      " 7   Temperatura_Aparente  1124257 non-null  float64\n",
      " 8   Precipitacion         1124257 non-null  float64\n",
      " 9   Humedad               1124257 non-null  float64\n",
      " 10  Velocidad_Viento      1124257 non-null  float64\n",
      " 11  Radiacion_Solar       1124257 non-null  float64\n",
      " 12  Nubosidad             1124257 non-null  float64\n",
      " 13  file                  1124257 non-null  object \n",
      "dtypes: float64(7), int64(1), object(6)\n",
      "memory usage: 120.1+ MB\n"
     ]
    }
   ],
   "source": [
    "dfs.info()\n"
   ]
  },
  {
   "cell_type": "code",
   "execution_count": 7,
   "metadata": {},
   "outputs": [
    {
     "data": {
      "text/html": [
       "<div>\n",
       "<style scoped>\n",
       "    .dataframe tbody tr th:only-of-type {\n",
       "        vertical-align: middle;\n",
       "    }\n",
       "\n",
       "    .dataframe tbody tr th {\n",
       "        vertical-align: top;\n",
       "    }\n",
       "\n",
       "    .dataframe thead th {\n",
       "        text-align: right;\n",
       "    }\n",
       "</style>\n",
       "<table border=\"1\" class=\"dataframe\">\n",
       "  <thead>\n",
       "    <tr style=\"text-align: right;\">\n",
       "      <th></th>\n",
       "      <th>Gerencia</th>\n",
       "      <th>Zona_Carga</th>\n",
       "      <th>Estacion</th>\n",
       "      <th>API</th>\n",
       "      <th>Fecha</th>\n",
       "      <th>Hora</th>\n",
       "      <th>Temperatura</th>\n",
       "      <th>Temperatura_Aparente</th>\n",
       "      <th>Precipitacion</th>\n",
       "      <th>Humedad</th>\n",
       "      <th>Velocidad_Viento</th>\n",
       "      <th>Radiacion_Solar</th>\n",
       "      <th>Nubosidad</th>\n",
       "      <th>file</th>\n",
       "    </tr>\n",
       "  </thead>\n",
       "  <tbody>\n",
       "    <tr>\n",
       "      <th>0</th>\n",
       "      <td>GCRNO</td>\n",
       "      <td>Obregon</td>\n",
       "      <td>Obregon PPA</td>\n",
       "      <td>Meteomatics</td>\n",
       "      <td>01/01/2010</td>\n",
       "      <td>0</td>\n",
       "      <td>14.7</td>\n",
       "      <td>13.7</td>\n",
       "      <td>0.0</td>\n",
       "      <td>58.9</td>\n",
       "      <td>2.9</td>\n",
       "      <td>0.0</td>\n",
       "      <td>0.0</td>\n",
       "      <td>OBREGON_REAL_HORARIO_20221031</td>\n",
       "    </tr>\n",
       "    <tr>\n",
       "      <th>1</th>\n",
       "      <td>GCRNO</td>\n",
       "      <td>Obregon</td>\n",
       "      <td>Obregon PPA</td>\n",
       "      <td>Meteomatics</td>\n",
       "      <td>01/01/2010</td>\n",
       "      <td>1</td>\n",
       "      <td>14.3</td>\n",
       "      <td>13.6</td>\n",
       "      <td>0.0</td>\n",
       "      <td>61.5</td>\n",
       "      <td>2.6</td>\n",
       "      <td>0.0</td>\n",
       "      <td>0.0</td>\n",
       "      <td>OBREGON_REAL_HORARIO_20221031</td>\n",
       "    </tr>\n",
       "    <tr>\n",
       "      <th>2</th>\n",
       "      <td>GCRNO</td>\n",
       "      <td>Obregon</td>\n",
       "      <td>Obregon PPA</td>\n",
       "      <td>Meteomatics</td>\n",
       "      <td>01/01/2010</td>\n",
       "      <td>2</td>\n",
       "      <td>12.5</td>\n",
       "      <td>12.1</td>\n",
       "      <td>0.0</td>\n",
       "      <td>64.8</td>\n",
       "      <td>2.5</td>\n",
       "      <td>0.0</td>\n",
       "      <td>0.0</td>\n",
       "      <td>OBREGON_REAL_HORARIO_20221031</td>\n",
       "    </tr>\n",
       "    <tr>\n",
       "      <th>3</th>\n",
       "      <td>GCRNO</td>\n",
       "      <td>Obregon</td>\n",
       "      <td>Obregon PPA</td>\n",
       "      <td>Meteomatics</td>\n",
       "      <td>01/01/2010</td>\n",
       "      <td>3</td>\n",
       "      <td>12.1</td>\n",
       "      <td>11.8</td>\n",
       "      <td>0.0</td>\n",
       "      <td>68.8</td>\n",
       "      <td>2.3</td>\n",
       "      <td>0.0</td>\n",
       "      <td>0.0</td>\n",
       "      <td>OBREGON_REAL_HORARIO_20221031</td>\n",
       "    </tr>\n",
       "    <tr>\n",
       "      <th>4</th>\n",
       "      <td>GCRNO</td>\n",
       "      <td>Obregon</td>\n",
       "      <td>Obregon PPA</td>\n",
       "      <td>Meteomatics</td>\n",
       "      <td>01/01/2010</td>\n",
       "      <td>4</td>\n",
       "      <td>10.4</td>\n",
       "      <td>10.4</td>\n",
       "      <td>0.0</td>\n",
       "      <td>73.0</td>\n",
       "      <td>2.1</td>\n",
       "      <td>0.0</td>\n",
       "      <td>0.0</td>\n",
       "      <td>OBREGON_REAL_HORARIO_20221031</td>\n",
       "    </tr>\n",
       "  </tbody>\n",
       "</table>\n",
       "</div>"
      ],
      "text/plain": [
       "  Gerencia Zona_Carga     Estacion          API       Fecha  Hora  \\\n",
       "0    GCRNO    Obregon  Obregon PPA  Meteomatics  01/01/2010     0   \n",
       "1    GCRNO    Obregon  Obregon PPA  Meteomatics  01/01/2010     1   \n",
       "2    GCRNO    Obregon  Obregon PPA  Meteomatics  01/01/2010     2   \n",
       "3    GCRNO    Obregon  Obregon PPA  Meteomatics  01/01/2010     3   \n",
       "4    GCRNO    Obregon  Obregon PPA  Meteomatics  01/01/2010     4   \n",
       "\n",
       "   Temperatura  Temperatura_Aparente  Precipitacion  Humedad  \\\n",
       "0         14.7                  13.7            0.0     58.9   \n",
       "1         14.3                  13.6            0.0     61.5   \n",
       "2         12.5                  12.1            0.0     64.8   \n",
       "3         12.1                  11.8            0.0     68.8   \n",
       "4         10.4                  10.4            0.0     73.0   \n",
       "\n",
       "   Velocidad_Viento  Radiacion_Solar  Nubosidad                           file  \n",
       "0               2.9              0.0        0.0  OBREGON_REAL_HORARIO_20221031  \n",
       "1               2.6              0.0        0.0  OBREGON_REAL_HORARIO_20221031  \n",
       "2               2.5              0.0        0.0  OBREGON_REAL_HORARIO_20221031  \n",
       "3               2.3              0.0        0.0  OBREGON_REAL_HORARIO_20221031  \n",
       "4               2.1              0.0        0.0  OBREGON_REAL_HORARIO_20221031  "
      ]
     },
     "execution_count": 7,
     "metadata": {},
     "output_type": "execute_result"
    }
   ],
   "source": [
    "#Create dataframe for sonora only\n",
    "dfs_son =dfs.drop(dfs[dfs.Zona_Carga.isin([\"Guasave\", \"Culiacan\",\"Los Mochis\",\"Mazatlan\"])].index)\n",
    "dfs_son.head()"
   ]
  },
  {
   "cell_type": "code",
   "execution_count": 9,
   "metadata": {},
   "outputs": [
    {
     "data": {
      "text/plain": [
       "array(['OBREGON_REAL_HORARIO_20221031', 'GUAYMAS_REAL_HORARIO_20221031',\n",
       "       'CABORCA_REAL_HORARIO 20221031', 'NOGALES_REAL_HORARIO_20221031',\n",
       "       'NAVOJOA_REAL_HORARIO_20221031',\n",
       "       'HERMOSILLO_REAL_HORARIO_20221031'], dtype=object)"
      ]
     },
     "execution_count": 9,
     "metadata": {},
     "output_type": "execute_result"
    }
   ],
   "source": [
    "dfs_son['file'].unique()"
   ]
  },
  {
   "cell_type": "code",
   "execution_count": 10,
   "metadata": {},
   "outputs": [],
   "source": [
    "#send combined dataframe to file\n",
    "dfs_son.to_csv (r'real_met.csv', index = False)"
   ]
  }
 ],
 "metadata": {
  "kernelspec": {
   "display_name": "Python 3",
   "language": "python",
   "name": "python3"
  },
  "language_info": {
   "codemirror_mode": {
    "name": "ipython",
    "version": 3
   },
   "file_extension": ".py",
   "mimetype": "text/x-python",
   "name": "python",
   "nbconvert_exporter": "python",
   "pygments_lexer": "ipython3",
   "version": "3.8.13"
  },
  "vscode": {
   "interpreter": {
    "hash": "ed2e2a0415bd5350151cd939f9c3e3fa92c59c92b650c54a8bc7d1eb0967a683"
   }
  }
 },
 "nbformat": 4,
 "nbformat_minor": 2
}
